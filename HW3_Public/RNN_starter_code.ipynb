{
 "cells": [
  {
   "attachments": {},
   "cell_type": "markdown",
   "metadata": {},
   "source": []
  },
  {
   "cell_type": "code",
   "execution_count": 54,
   "metadata": {},
   "outputs": [],
   "source": [
    "import numpy as np\n",
    "import torch\n",
    "import torch.nn as nn\n",
    "import torch.nn.functional as F\n",
    "from torch.distributions import Categorical"
   ]
  },
  {
   "cell_type": "code",
   "execution_count": 55,
   "metadata": {},
   "outputs": [],
   "source": [
    "device = torch.device(\"cuda\" if torch.cuda.is_available() else \"cpu\")"
   ]
  },
  {
   "cell_type": "code",
   "execution_count": null,
   "metadata": {},
   "outputs": [
    {
     "name": "stdout",
     "output_type": "stream",
     "text": [
      "Number of sequences: 32663\n",
      "Vocab size: 71\n",
      "Example sequence (chars):                    1\n",
      "From fairest creatu\n",
      "Example target (chars):                   1\n",
      "From fairest creatur\n"
     ]
    }
   ],
   "source": [
    "def preprocess_shakespeare(text, seq_length=40, stride=3):\n",
    "    chars = sorted(list(set(text))) \n",
    "    char_to_ix = {ch: i for i, ch in enumerate(chars)}\n",
    "    ix_to_char = {i: ch for i, ch in enumerate(chars)}\n",
    "\n",
    "    data_indices = [char_to_ix[ch] for ch in text]\n",
    "\n",
    "    sequences = []\n",
    "    targets = []\n",
    "    for start_idx in range(0, len(data_indices) - seq_length, stride):\n",
    "        seq = data_indices[start_idx : start_idx + seq_length]\n",
    "        target = data_indices[start_idx + 1 : start_idx + seq_length + 1]\n",
    "        sequences.append(seq)\n",
    "        targets.append(target)\n",
    "\n",
    "    return sequences, targets, char_to_ix, ix_to_char\n",
    "\n",
    "with open(r\"C:\\Users\\yosub\\CSE-151B\\HW3_Public\\HW3_Public\\poem_data\\shakespeare.txt\", \"r\", encoding=\"utf-8\") as f:\n",
    "    text = f.read()\n",
    "\n",
    "seq_length = 40\n",
    "stride = 3\n",
    "sequences, targets, char_to_ix, ix_to_char = preprocess_shakespeare(text, seq_length, stride)\n",
    "\n",
    "print(f\"Number of sequences: {len(sequences)}\")\n",
    "print(f\"Vocab size: {len(char_to_ix)}\")\n",
    "print(f\"Example sequence (chars): {''.join([ix_to_char[ix] for ix in sequences[0]])}\")\n",
    "print(f\"Example target (chars): {''.join([ix_to_char[ix] for ix in targets[0]])}\")\n"
   ]
  },
  {
   "cell_type": "code",
   "execution_count": null,
   "metadata": {},
   "outputs": [
    {
     "name": "stdout",
     "output_type": "stream",
     "text": [
      "CharLSTM(\n",
      "  (embedding): Embedding(71, 128)\n",
      "  (lstm): LSTM(128, 128)\n",
      "  (fc): Linear(in_features=128, out_features=71, bias=True)\n",
      ")\n"
     ]
    }
   ],
   "source": [
    "import torch\n",
    "import torch.nn as nn\n",
    "\n",
    "class CharLSTM(nn.Module):\n",
    "    def __init__(self, vocab_size, embedding_dim=128, hidden_size=128, num_layers=1):\n",
    "        super(CharLSTM, self).__init__()\n",
    "        self.embedding = nn.Embedding(vocab_size, embedding_dim)  \n",
    "        self.lstm = nn.LSTM(input_size=embedding_dim,\n",
    "                            hidden_size=hidden_size,\n",
    "                            num_layers=num_layers)\n",
    "        self.fc = nn.Linear(hidden_size, vocab_size)              \n",
    "\n",
    "    def forward(self, x, hidden=None):\n",
    "        # x shape: (seq_len, batch_size)\n",
    "        embedded = self.embedding(x)                              # (seq_len, batch_size, embedding_dim)\n",
    "        output, hidden = self.lstm(embedded, hidden)             # output: (seq_len, batch_size, hidden_size)\n",
    "        logits = self.fc(output)                                  # (seq_len, batch_size, vocab_size)\n",
    "        return logits, hidden\n",
    "\n",
    "embedding_dim = 128\n",
    "hidden_size = 128\n",
    "num_layers = 1\n",
    "\n",
    "vocab_size = len(char_to_ix)\n",
    "\n",
    "model = CharLSTM(vocab_size, embedding_dim, hidden_size, num_layers).to(device)\n",
    "\n",
    "loss_fn = nn.CrossEntropyLoss()\n",
    "optimizer = torch.optim.Adam(model.parameters(), lr=0.003)\n",
    "\n",
    "print(model)\n"
   ]
  },
  {
   "cell_type": "code",
   "execution_count": null,
   "metadata": {},
   "outputs": [
    {
     "name": "stdout",
     "output_type": "stream",
     "text": [
      "Epoch 1/20 \t Loss: 1.8421\n",
      "Epoch 2/20 \t Loss: 1.5045\n",
      "Epoch 3/20 \t Loss: 1.4066\n",
      "Epoch 4/20 \t Loss: 1.3410\n",
      "Epoch 5/20 \t Loss: 1.2892\n",
      "Epoch 6/20 \t Loss: 1.2461\n",
      "Epoch 7/20 \t Loss: 1.2087\n",
      "Epoch 8/20 \t Loss: 1.1760\n",
      "Epoch 9/20 \t Loss: 1.1471\n",
      "Epoch 10/20 \t Loss: 1.1219\n",
      "Epoch 11/20 \t Loss: 1.1007\n",
      "Epoch 12/20 \t Loss: 1.0818\n",
      "Epoch 13/20 \t Loss: 1.0646\n",
      "Epoch 14/20 \t Loss: 1.0494\n",
      "Epoch 15/20 \t Loss: 1.0363\n",
      "Epoch 16/20 \t Loss: 1.0248\n",
      "Epoch 17/20 \t Loss: 1.0138\n",
      "Epoch 18/20 \t Loss: 1.0047\n",
      "Epoch 19/20 \t Loss: 0.9951\n",
      "Epoch 20/20 \t Loss: 0.9876\n"
     ]
    }
   ],
   "source": [
    "from torch.utils.data import DataLoader, TensorDataset\n",
    "\n",
    "inputs = torch.tensor(sequences)    # (num_samples, seq_length)\n",
    "labels = torch.tensor(targets)      # (num_samples, seq_length)\n",
    "\n",
    "dataset = TensorDataset(inputs, labels)\n",
    "batch_size = 64\n",
    "dataloader = DataLoader(dataset, batch_size=batch_size, shuffle=True)\n",
    "\n",
    "epochs = 20\n",
    "\n",
    "for epoch in range(epochs):\n",
    "    model.train()\n",
    "    total_loss = 0\n",
    "\n",
    "    for batch_inputs, batch_labels in dataloader:\n",
    "        batch_inputs = batch_inputs.transpose(0,1).to(device)   # (seq_len, batch)\n",
    "        batch_labels = batch_labels.transpose(0,1).to(device)\n",
    "\n",
    "        batch_size = batch_inputs.size(1)\n",
    "\n",
    "        hidden = None\n",
    "\n",
    "        optimizer.zero_grad()\n",
    "        output, hidden = model(batch_inputs, hidden)\n",
    "        hidden = (hidden[0].detach(), hidden[1].detach())\n",
    "\n",
    "        output = output.reshape(-1, vocab_size)\n",
    "        batch_labels = batch_labels.reshape(-1)\n",
    "\n",
    "        loss = loss_fn(output, batch_labels)\n",
    "        loss.backward()\n",
    "        optimizer.step()\n",
    "\n",
    "        total_loss += loss.item()\n",
    "\n",
    "    avg_loss = total_loss / len(dataloader)\n",
    "    print(f\"Epoch {epoch+1}/{epochs} \\t Loss: {avg_loss:.4f}\")\n",
    "\n"
   ]
  },
  {
   "cell_type": "code",
   "execution_count": null,
   "metadata": {},
   "outputs": [],
   "source": [
    "def generate_text(model, seed_text, char_to_ix, ix_to_char, length=200, temperature=1.0):\n",
    "    model.eval()\n",
    "    generated = seed_text\n",
    "\n",
    "    input_seq = [char_to_ix[ch] for ch in seed_text]\n",
    "    input_tensor = torch.tensor(input_seq).unsqueeze(1).to(device)  # (seq_len, 1)\n",
    "\n",
    "    hidden = None\n",
    "    with torch.no_grad():\n",
    "        output, hidden = model(input_tensor, hidden)\n",
    "\n",
    "        for _ in range(length):\n",
    "            last_logits = output[-1].squeeze()  # (vocab_size,)\n",
    "\n",
    "            scaled_logits = last_logits / temperature\n",
    "\n",
    "            probs = torch.softmax(scaled_logits, dim=-1)\n",
    "\n",
    "            next_char_idx = torch.multinomial(probs, num_samples=1).item()\n",
    "\n",
    "            generated += ix_to_char[next_char_idx]\n",
    "\n",
    "            input_tensor = torch.tensor([[next_char_idx]]).to(device)\n",
    "            output, hidden = model(input_tensor, hidden)\n",
    "\n",
    "    return generated\n"
   ]
  },
  {
   "cell_type": "code",
   "execution_count": 60,
   "metadata": {},
   "outputs": [
    {
     "name": "stdout",
     "output_type": "stream",
     "text": [
      "shall i compare thee to a summers day?\n",
      "It fears the objechsing thy heart the world and thy self dost before,\n",
      "  Theirs argood made, all you shalt spirit did?\n",
      "Shall will transport by lambry?\n",
      "Is it not to pry,\n",
      "How with thy sum thy show alone.\n"
     ]
    }
   ],
   "source": [
    "seed = \"shall i compare thee to a summers day?\\n\"\n",
    "print(generate_text(model, seed, char_to_ix, ix_to_char, length=200, temperature=0.75))\n"
   ]
  },
  {
   "cell_type": "code",
   "execution_count": 61,
   "metadata": {},
   "outputs": [
    {
     "name": "stdout",
     "output_type": "stream",
     "text": [
      "shall i compare thee to a summers day?\n",
      "That assamed, or crow, oun pull you behom,\n",
      "  And they memn hides thou, nothing no frowness\n",
      "Skencr,\n",
      "On subt, yet give he be doth my sit,\n",
      "Duteous) is flown abument dirept thou servyouths hands of thines\n"
     ]
    }
   ],
   "source": [
    "seed = \"shall i compare thee to a summers day?\\n\"\n",
    "print(generate_text(model, seed, char_to_ix, ix_to_char, length=200, temperature=1.5))\n"
   ]
  },
  {
   "cell_type": "code",
   "execution_count": 62,
   "metadata": {},
   "outputs": [
    {
     "name": "stdout",
     "output_type": "stream",
     "text": [
      "shall i compare thee to a summers day?\n",
      "If thou gav'st and look of earth to be thy complexion did cruel.\n",
      "\n",
      "\n",
      "                   138\n",
      "When my love that which it self-substance stol'n false of thy beauty shall I not the store that she so faults \n"
     ]
    }
   ],
   "source": [
    "seed = \"shall i compare thee to a summers day?\\n\"\n",
    "print(generate_text(model, seed, char_to_ix, ix_to_char, length=200, temperature=0.25))\n"
   ]
  }
 ],
 "metadata": {
  "kernelspec": {
   "display_name": "Python 3",
   "language": "python",
   "name": "python3"
  },
  "language_info": {
   "codemirror_mode": {
    "name": "ipython",
    "version": 3
   },
   "file_extension": ".py",
   "mimetype": "text/x-python",
   "name": "python",
   "nbconvert_exporter": "python",
   "pygments_lexer": "ipython3",
   "version": "3.12.3"
  },
  "orig_nbformat": 4
 },
 "nbformat": 4,
 "nbformat_minor": 2
}
