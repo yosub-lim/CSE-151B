{
 "cells": [
  {
   "cell_type": "markdown",
   "id": "UyaX8ANmkCSz",
   "metadata": {
    "id": "UyaX8ANmkCSz"
   },
   "source": [
    "# CSE 151B: Homework 2 Coding\n",
    "## PyTorch Implementation\n",
    "\n",
    "Using PyTorch’s `Sequential` model class, build a deep convolutional network to classify handwritten digits in MNIST.\n",
    "\n",
    "You are only allowed to use the following in your model design:\n",
    "- Linear Layers\n",
    "- Conv2D\n",
    "- MaxPool2D\n",
    "- BatchNorm2D\n",
    "- Dropout Layers\n",
    "- ReLU and Softmax\n",
    "- Flatten\n",
    "\n",
    "Your goal is to build a model that achieves **test accuracy ≥ 0.985** with fewer than 1 million parameters.\n",
    "\n",
    "**Warning**: The modules in your Sequential network should *only* consist of `nn` objects! That means you should not be using `torch.nn.functional` modules or lambda expressions in your Sequential block. Leaving functional/lambda expressions in your model code will result in no credit!\n",
    "\n",
    "This notebook provides a skeleton layout for you. You may use whatever parts of this notebook you deem necessary; there is no need for you to adhere to the structure. However, during submission, you must carefully follow the zip file formatting as requested; see the bottom of the notebook."
   ]
  },
  {
   "cell_type": "code",
   "execution_count": 7,
   "id": "4mErVSnxkCS3",
   "metadata": {
    "id": "4mErVSnxkCS3"
   },
   "outputs": [],
   "source": [
    "import torch\n",
    "import torch.nn as nn\n",
    "import torch.optim as optim\n",
    "from torchvision import datasets, transforms\n",
    "from torch.utils.data import DataLoader"
   ]
  },
  {
   "cell_type": "code",
   "execution_count": 8,
   "id": "M_jeCt_XkCS5",
   "metadata": {
    "id": "M_jeCt_XkCS5"
   },
   "outputs": [],
   "source": [
    "def get_data_loaders(batch_size) -> tuple[DataLoader, DataLoader]:\n",
    "    '''\n",
    "    Return the training and testing MNIST dataloaders.\n",
    "    '''\n",
    "    transform = transforms.Compose([\n",
    "        transforms.ToTensor(),\n",
    "        transforms.Normalize((0.1307,), (0.3081,))\n",
    "    ])\n",
    "    \n",
    "    train_dataset = datasets.MNIST(root='./data', train=True, download=True, transform=transform)\n",
    "    test_dataset = datasets.MNIST(root='./data', train=False, download=True, transform=transform)\n",
    "\n",
    "    train_loader = DataLoader(train_dataset, batch_size=batch_size, shuffle=True)\n",
    "    test_loader = DataLoader(test_dataset, batch_size=batch_size, shuffle=False)\n",
    "\n",
    "    return train_loader, test_loader\n"
   ]
  },
  {
   "cell_type": "code",
   "execution_count": 9,
   "id": "N1byiDMzkCS5",
   "metadata": {
    "id": "N1byiDMzkCS5"
   },
   "outputs": [],
   "source": [
    "def build_model(dropout_prob=0.5) -> nn.Module:\n",
    "    model = nn.Sequential(\n",
    "        # Input: (1, 28, 28)\n",
    "        nn.Conv2d(1, 32, kernel_size=3, padding=1),     # (32, 28, 28)\n",
    "        nn.BatchNorm2d(32),\n",
    "        nn.ReLU(),\n",
    "        nn.Conv2d(32, 64, kernel_size=3, padding=1),    # (64, 28, 28)\n",
    "        nn.BatchNorm2d(64),\n",
    "        nn.ReLU(),\n",
    "        nn.MaxPool2d(2),                                # (64, 14, 14)\n",
    "        nn.Dropout(dropout_prob),\n",
    "\n",
    "        nn.Conv2d(64, 128, kernel_size=3, padding=1),   # (128, 14, 14)\n",
    "        nn.BatchNorm2d(128),\n",
    "        nn.ReLU(),\n",
    "        nn.Conv2d(128, 128, kernel_size=3, padding=1),  # (128, 14, 14)\n",
    "        nn.BatchNorm2d(128),\n",
    "        nn.ReLU(),\n",
    "        nn.MaxPool2d(2),                                # (128, 7, 7)\n",
    "        nn.Dropout(dropout_prob),\n",
    "\n",
    "        nn.Flatten(),                                   # (128*7*7) = 6272\n",
    "        nn.Linear(6272, 256),\n",
    "        nn.BatchNorm1d(256),\n",
    "        nn.ReLU(),\n",
    "        nn.Dropout(dropout_prob),\n",
    "        nn.Linear(256, 10),\n",
    "        nn.Softmax(dim=1)\n",
    "    )\n",
    "    return model\n"
   ]
  },
  {
   "cell_type": "code",
   "execution_count": null,
   "id": "aba17aab",
   "metadata": {
    "id": "aba17aab"
   },
   "outputs": [],
   "source": [
    "def check_params():\n",
    "    model = build_model()\n",
    "    print(f\"Number of parameters: {sum(p.numel() for p in model.parameters())}\")"
   ]
  },
  {
   "cell_type": "code",
   "execution_count": 11,
   "id": "41FLmd-3kCS6",
   "metadata": {
    "id": "41FLmd-3kCS6"
   },
   "outputs": [],
   "source": [
    "def train(model, optimizer, criterion, train_loader, n_epochs=1):\n",
    "    '''\n",
    "    Train the model for `n_epochs` epochs. Returns none (model is modified in place).\n",
    "    '''\n",
    "    model.train()\n",
    "    for epoch in range(n_epochs):\n",
    "        running_loss = 0.0\n",
    "        correct = 0\n",
    "        total = 0\n",
    "\n",
    "        for images, labels in train_loader:\n",
    "            # Zero the gradients\n",
    "            optimizer.zero_grad()\n",
    "\n",
    "            # Forward pass\n",
    "            outputs = model(images)\n",
    "\n",
    "            # Compute loss\n",
    "            loss = criterion(outputs, labels)\n",
    "\n",
    "            # Backward pass and optimization\n",
    "            loss.backward()\n",
    "            optimizer.step()\n",
    "\n",
    "            # Track statistics\n",
    "            running_loss += loss.item()\n",
    "            _, predicted = torch.max(outputs.data, 1)\n",
    "            total += labels.size(0)\n",
    "            correct += (predicted == labels).sum().item()\n",
    "\n",
    "        epoch_loss = running_loss / len(train_loader)\n",
    "        epoch_acc = correct / total\n",
    "        print(f\"Epoch [{epoch + 1}/{n_epochs}], Loss: {epoch_loss:.4f}, Accuracy: {epoch_acc:.4f}\")\n"
   ]
  },
  {
   "cell_type": "code",
   "execution_count": 12,
   "id": "kcXCl1XEkCS6",
   "metadata": {
    "id": "kcXCl1XEkCS6"
   },
   "outputs": [],
   "source": [
    "def test(model, test_loader):\n",
    "    '''\n",
    "    Tests the model. Returns none (you should print the accuracy).\n",
    "    '''\n",
    "    model.eval()\n",
    "    correct = 0\n",
    "    total = 0\n",
    "\n",
    "    with torch.no_grad():\n",
    "        for images, labels in test_loader:\n",
    "            outputs = model(images)\n",
    "            _, predicted = torch.max(outputs.data, 1)\n",
    "            total += labels.size(0)\n",
    "            correct += (predicted == labels).sum().item()\n",
    "\n",
    "    accuracy = correct / total\n",
    "    print(f\"Test Accuracy: {accuracy:.4f}\")\n"
   ]
  },
  {
   "cell_type": "code",
   "execution_count": 13,
   "id": "DF19b5vgkCS6",
   "metadata": {
    "id": "DF19b5vgkCS6"
   },
   "outputs": [
    {
     "name": "stdout",
     "output_type": "stream",
     "text": [
      "\n",
      "Training with dropout=0.0\n",
      "Epoch [1/5], Loss: 1.4923, Accuracy: 0.9784\n",
      "Epoch [2/5], Loss: 1.4734, Accuracy: 0.9897\n",
      "Epoch [3/5], Loss: 1.4706, Accuracy: 0.9916\n",
      "Epoch [4/5], Loss: 1.4692, Accuracy: 0.9929\n",
      "Epoch [5/5], Loss: 1.4685, Accuracy: 0.9933\n",
      "Test Accuracy: 0.9927\n",
      "\n",
      "Training with dropout=0.1\n",
      "Epoch [1/5], Loss: 1.4947, Accuracy: 0.9778\n",
      "Epoch [2/5], Loss: 1.4740, Accuracy: 0.9890\n",
      "Epoch [3/5], Loss: 1.4716, Accuracy: 0.9910\n",
      "Epoch [4/5], Loss: 1.4706, Accuracy: 0.9915\n",
      "Epoch [5/5], Loss: 1.4690, Accuracy: 0.9928\n",
      "Test Accuracy: 0.9918\n",
      "\n",
      "Training with dropout=0.2\n",
      "Epoch [1/5], Loss: 1.4987, Accuracy: 0.9736\n",
      "Epoch [2/5], Loss: 1.4770, Accuracy: 0.9865\n",
      "Epoch [3/5], Loss: 1.4735, Accuracy: 0.9890\n",
      "Epoch [4/5], Loss: 1.4718, Accuracy: 0.9905\n",
      "Epoch [5/5], Loss: 1.4710, Accuracy: 0.9910\n",
      "Test Accuracy: 0.9948\n",
      "\n",
      "Training with dropout=0.3\n",
      "Epoch [1/5], Loss: 1.5038, Accuracy: 0.9704\n",
      "Epoch [2/5], Loss: 1.4782, Accuracy: 0.9854\n",
      "Epoch [3/5], Loss: 1.4744, Accuracy: 0.9885\n",
      "Epoch [4/5], Loss: 1.4732, Accuracy: 0.9891\n",
      "Epoch [5/5], Loss: 1.4718, Accuracy: 0.9905\n",
      "Test Accuracy: 0.9928\n",
      "\n",
      "Training with dropout=0.4\n",
      "Epoch [1/5], Loss: 1.5106, Accuracy: 0.9650\n",
      "Epoch [2/5], Loss: 1.4806, Accuracy: 0.9830\n",
      "Epoch [3/5], Loss: 1.4769, Accuracy: 0.9858\n",
      "Epoch [4/5], Loss: 1.4749, Accuracy: 0.9874\n",
      "Epoch [5/5], Loss: 1.4741, Accuracy: 0.9881\n",
      "Test Accuracy: 0.9919\n",
      "\n",
      "Training with dropout=0.5\n",
      "Epoch [1/5], Loss: 1.5211, Accuracy: 0.9562\n",
      "Epoch [2/5], Loss: 1.4842, Accuracy: 0.9802\n",
      "Epoch [3/5], Loss: 1.4797, Accuracy: 0.9836\n",
      "Epoch [4/5], Loss: 1.4773, Accuracy: 0.9853\n",
      "Epoch [5/5], Loss: 1.4761, Accuracy: 0.9862\n",
      "Test Accuracy: 0.9939\n",
      "\n",
      "Training with dropout=0.6\n",
      "Epoch [1/5], Loss: 1.5371, Accuracy: 0.9432\n",
      "Epoch [2/5], Loss: 1.4910, Accuracy: 0.9741\n",
      "Epoch [3/5], Loss: 1.4851, Accuracy: 0.9783\n",
      "Epoch [4/5], Loss: 1.4820, Accuracy: 0.9811\n",
      "Epoch [5/5], Loss: 1.4806, Accuracy: 0.9819\n",
      "Test Accuracy: 0.9929\n",
      "\n",
      "Training with dropout=0.7\n",
      "Epoch [1/5], Loss: 1.5704, Accuracy: 0.9161\n",
      "Epoch [2/5], Loss: 1.5016, Accuracy: 0.9648\n",
      "Epoch [3/5], Loss: 1.4934, Accuracy: 0.9708\n",
      "Epoch [4/5], Loss: 1.4904, Accuracy: 0.9730\n",
      "Epoch [5/5], Loss: 1.4879, Accuracy: 0.9755\n",
      "Test Accuracy: 0.9905\n",
      "\n",
      "Training with dropout=0.8\n",
      "Epoch [1/5], Loss: 1.6492, Accuracy: 0.8457\n",
      "Epoch [2/5], Loss: 1.5326, Accuracy: 0.9378\n",
      "Epoch [3/5], Loss: 1.5182, Accuracy: 0.9478\n",
      "Epoch [4/5], Loss: 1.5119, Accuracy: 0.9534\n",
      "Epoch [5/5], Loss: 1.5068, Accuracy: 0.9573\n",
      "Test Accuracy: 0.9861\n",
      "\n",
      "Training with dropout=0.9\n",
      "Epoch [1/5], Loss: 1.8792, Accuracy: 0.6109\n",
      "Epoch [2/5], Loss: 1.6992, Accuracy: 0.7810\n",
      "Epoch [3/5], Loss: 1.6453, Accuracy: 0.8288\n",
      "Epoch [4/5], Loss: 1.6219, Accuracy: 0.8486\n",
      "Epoch [5/5], Loss: 1.6038, Accuracy: 0.8646\n",
      "Test Accuracy: 0.9287\n"
     ]
    }
   ],
   "source": [
    "train_loader, test_loader = get_data_loaders(batch_size=64)\n",
    "\n",
    "criterion = nn.CrossEntropyLoss()\n",
    "dropout_values = [i / 10 for i in range(10)]\n",
    "\n",
    "for p in dropout_values:\n",
    "    print(f\"\\nTraining with dropout={p:.1f}\")\n",
    "    model = build_model(dropout_prob=p)\n",
    "    optimizer = torch.optim.Adam(model.parameters(), lr=0.001)\n",
    "    \n",
    "    train(model, optimizer, criterion, train_loader, n_epochs=5)\n",
    "    test(model, test_loader)\n",
    "    torch.save(model, f'hw2_dropout_{p:.1f}.pt')\n"
   ]
  },
  {
   "cell_type": "code",
   "execution_count": 16,
   "id": "lmIeyYtYkCS7",
   "metadata": {
    "id": "lmIeyYtYkCS7"
   },
   "outputs": [
    {
     "name": "stdout",
     "output_type": "stream",
     "text": [
      "Epoch [1/10], Loss: 1.4984, Accuracy: 0.9734\n",
      "Epoch [2/10], Loss: 1.4760, Accuracy: 0.9872\n",
      "Epoch [3/10], Loss: 1.4727, Accuracy: 0.9899\n",
      "Epoch [4/10], Loss: 1.4710, Accuracy: 0.9911\n",
      "Epoch [5/10], Loss: 1.4702, Accuracy: 0.9916\n",
      "Epoch [6/10], Loss: 1.4692, Accuracy: 0.9927\n",
      "Epoch [7/10], Loss: 1.4681, Accuracy: 0.9937\n",
      "Epoch [8/10], Loss: 1.4680, Accuracy: 0.9937\n",
      "Epoch [9/10], Loss: 1.4675, Accuracy: 0.9942\n",
      "Epoch [10/10], Loss: 1.4670, Accuracy: 0.9946\n",
      "Test Accuracy: 0.9951\n"
     ]
    }
   ],
   "source": [
    "# find your best model, and train it for 10 epochs\n",
    "best_p = 0.2 # TODO: fill in your best probability\n",
    "model = build_model(dropout_prob=best_p)\n",
    "optimizer = torch.optim.Adam(model.parameters(), lr=0.001)\n",
    "criterion = nn.CrossEntropyLoss()\n",
    "\n",
    "train(model, optimizer, criterion, train_loader, n_epochs = 10)\n",
    "test(model, test_loader)\n",
    "torch.save(model, \"hw2_model.pt\")"
   ]
  },
  {
   "cell_type": "markdown",
   "id": "d8a2dc2a",
   "metadata": {
    "id": "d8a2dc2a"
   },
   "source": [
    "# Submission Instructions\n",
    "\n",
    "Zip all of your **code** and **model .pt files** into one file, and submit on Gradescope to the respective submission."
   ]
  }
 ],
 "metadata": {
  "colab": {
   "provenance": []
  },
  "kernelspec": {
   "display_name": "Python 3",
   "language": "python",
   "name": "python3"
  },
  "language_info": {
   "codemirror_mode": {
    "name": "ipython",
    "version": 3
   },
   "file_extension": ".py",
   "mimetype": "text/x-python",
   "name": "python",
   "nbconvert_exporter": "python",
   "pygments_lexer": "ipython3",
   "version": "3.12.3"
  }
 },
 "nbformat": 4,
 "nbformat_minor": 5
}
