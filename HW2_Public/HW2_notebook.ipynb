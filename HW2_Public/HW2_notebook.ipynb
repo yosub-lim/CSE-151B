{
 "cells": [
  {
   "cell_type": "markdown",
   "id": "UyaX8ANmkCSz",
   "metadata": {
    "id": "UyaX8ANmkCSz"
   },
   "source": [
    "# CSE 151B: Homework 2 Coding\n",
    "## PyTorch Implementation\n",
    "\n",
    "Using PyTorch’s `Sequential` model class, build a deep convolutional network to classify handwritten digits in MNIST.\n",
    "\n",
    "You are only allowed to use the following in your model design:\n",
    "- Linear Layers\n",
    "- Conv2D\n",
    "- MaxPool2D\n",
    "- BatchNorm2D\n",
    "- Dropout Layers\n",
    "- ReLU and Softmax\n",
    "- Flatten\n",
    "\n",
    "Your goal is to build a model that achieves **test accuracy ≥ 0.985** with fewer than 1 million parameters.\n",
    "\n",
    "**Warning**: The modules in your Sequential network should *only* consist of `nn` objects! That means you should not be using `torch.nn.functional` modules or lambda expressions in your Sequential block. Leaving functional/lambda expressions in your model code will result in no credit!\n",
    "\n",
    "This notebook provides a skeleton layout for you. You may use whatever parts of this notebook you deem necessary; there is no need for you to adhere to the structure. However, during submission, you must carefully follow the zip file formatting as requested; see the bottom of the notebook."
   ]
  },
  {
   "cell_type": "code",
   "execution_count": 25,
   "id": "4mErVSnxkCS3",
   "metadata": {
    "id": "4mErVSnxkCS3"
   },
   "outputs": [],
   "source": [
    "import torch\n",
    "import torch.nn as nn\n",
    "import torch.optim as optim\n",
    "from torchvision import datasets, transforms\n",
    "from torch.utils.data import DataLoader"
   ]
  },
  {
   "cell_type": "code",
   "execution_count": 26,
   "id": "M_jeCt_XkCS5",
   "metadata": {
    "id": "M_jeCt_XkCS5"
   },
   "outputs": [],
   "source": [
    "def get_data_loaders(batch_size) -> tuple[DataLoader, DataLoader]:\n",
    "    '''\n",
    "    Return the training and testing MNIST dataloaders.\n",
    "    '''\n",
    "    transform = transforms.Compose([\n",
    "        transforms.ToTensor(),\n",
    "        transforms.Normalize((0.1307,), (0.3081,))\n",
    "    ])\n",
    "    \n",
    "    train_dataset = datasets.MNIST(root='./data', train=True, download=True, transform=transform)\n",
    "    test_dataset = datasets.MNIST(root='./data', train=False, download=True, transform=transform)\n",
    "\n",
    "    train_loader = DataLoader(train_dataset, batch_size=batch_size, shuffle=True)\n",
    "    test_loader = DataLoader(test_dataset, batch_size=batch_size, shuffle=False)\n",
    "\n",
    "    return train_loader, test_loader\n"
   ]
  },
  {
   "cell_type": "code",
   "execution_count": 27,
   "id": "N1byiDMzkCS5",
   "metadata": {
    "id": "N1byiDMzkCS5"
   },
   "outputs": [],
   "source": [
    "def build_model(dropout_prob=0.3) -> nn.Module:\n",
    "    model = nn.Sequential(\n",
    "        nn.Conv2d(1, 16, kernel_size=3, padding=1),    # (16, 28, 28)\n",
    "        nn.BatchNorm2d(16),\n",
    "        nn.ReLU(),\n",
    "        nn.MaxPool2d(2),                               # (16, 14, 14)\n",
    "\n",
    "        nn.Conv2d(16, 32, kernel_size=3, padding=1),   # (32, 14, 14)\n",
    "        nn.BatchNorm2d(32),\n",
    "        nn.ReLU(),\n",
    "        nn.MaxPool2d(2),                               # (32, 7, 7)\n",
    "\n",
    "        nn.Conv2d(32, 64, kernel_size=3, padding=1),   # (64, 7, 7)\n",
    "        nn.BatchNorm2d(64),\n",
    "        nn.ReLU(),\n",
    "        nn.MaxPool2d(2),                               # (64, 3, 3)\n",
    "        nn.Dropout(dropout_prob),\n",
    "\n",
    "        nn.Flatten(),                                  # 64 * 3 * 3 = 576\n",
    "        nn.Linear(576, 64),\n",
    "        nn.ReLU(),\n",
    "        nn.Dropout(dropout_prob),\n",
    "        nn.Linear(64, 10)                              # No Softmax\n",
    "    )\n",
    "    return model\n"
   ]
  },
  {
   "cell_type": "code",
   "execution_count": 28,
   "id": "aba17aab",
   "metadata": {
    "id": "aba17aab"
   },
   "outputs": [],
   "source": [
    "def check_params():\n",
    "    model = build_model()\n",
    "    print(f\"Number of parameters: {sum(p.numel() for p in model.parameters())}\")"
   ]
  },
  {
   "cell_type": "code",
   "execution_count": 29,
   "id": "41FLmd-3kCS6",
   "metadata": {
    "id": "41FLmd-3kCS6"
   },
   "outputs": [],
   "source": [
    "def train(model, optimizer, criterion, train_loader, n_epochs=1):\n",
    "    '''\n",
    "    Train the model for `n_epochs` epochs. Returns none (model is modified in place).\n",
    "    '''\n",
    "    model.train()\n",
    "    for epoch in range(n_epochs):\n",
    "        running_loss = 0.0\n",
    "        correct = 0\n",
    "        total = 0\n",
    "\n",
    "        for images, labels in train_loader:\n",
    "            # Zero the gradients\n",
    "            optimizer.zero_grad()\n",
    "\n",
    "            # Forward pass\n",
    "            outputs = model(images)\n",
    "\n",
    "            # Compute loss\n",
    "            loss = criterion(outputs, labels)\n",
    "\n",
    "            # Backward pass and optimization\n",
    "            loss.backward()\n",
    "            optimizer.step()\n",
    "\n",
    "            # Track statistics\n",
    "            running_loss += loss.item()\n",
    "            _, predicted = torch.max(outputs.data, 1)\n",
    "            total += labels.size(0)\n",
    "            correct += (predicted == labels).sum().item()\n",
    "\n",
    "        epoch_loss = running_loss / len(train_loader)\n",
    "        epoch_acc = correct / total\n",
    "        print(f\"Epoch [{epoch + 1}/{n_epochs}], Loss: {epoch_loss:.4f}, Accuracy: {epoch_acc:.4f}\")\n"
   ]
  },
  {
   "cell_type": "code",
   "execution_count": 30,
   "id": "kcXCl1XEkCS6",
   "metadata": {
    "id": "kcXCl1XEkCS6"
   },
   "outputs": [],
   "source": [
    "def test(model, test_loader):\n",
    "    '''\n",
    "    Tests the model. Returns none (you should print the accuracy).\n",
    "    '''\n",
    "    model.eval()\n",
    "    correct = 0\n",
    "    total = 0\n",
    "\n",
    "    with torch.no_grad():\n",
    "        for images, labels in test_loader:\n",
    "            outputs = model(images)\n",
    "            _, predicted = torch.max(outputs.data, 1)\n",
    "            total += labels.size(0)\n",
    "            correct += (predicted == labels).sum().item()\n",
    "\n",
    "    accuracy = correct / total\n",
    "    print(f\"Test Accuracy: {accuracy:.4f}\")\n"
   ]
  },
  {
   "cell_type": "code",
   "execution_count": 31,
   "id": "DF19b5vgkCS6",
   "metadata": {
    "id": "DF19b5vgkCS6"
   },
   "outputs": [
    {
     "name": "stdout",
     "output_type": "stream",
     "text": [
      "\n",
      "Training with dropout=0.0\n",
      "Epoch [1/5], Loss: 0.1362, Accuracy: 0.9607\n",
      "Epoch [2/5], Loss: 0.0425, Accuracy: 0.9869\n",
      "Epoch [3/5], Loss: 0.0317, Accuracy: 0.9899\n",
      "Epoch [4/5], Loss: 0.0261, Accuracy: 0.9914\n",
      "Epoch [5/5], Loss: 0.0205, Accuracy: 0.9931\n",
      "Test Accuracy: 0.9910\n",
      "\n",
      "Training with dropout=0.1\n",
      "Epoch [1/5], Loss: 0.1471, Accuracy: 0.9572\n",
      "Epoch [2/5], Loss: 0.0488, Accuracy: 0.9848\n",
      "Epoch [3/5], Loss: 0.0387, Accuracy: 0.9873\n",
      "Epoch [4/5], Loss: 0.0311, Accuracy: 0.9899\n",
      "Epoch [5/5], Loss: 0.0261, Accuracy: 0.9919\n",
      "Test Accuracy: 0.9916\n",
      "\n",
      "Training with dropout=0.2\n",
      "Epoch [1/5], Loss: 0.1792, Accuracy: 0.9474\n",
      "Epoch [2/5], Loss: 0.0626, Accuracy: 0.9814\n",
      "Epoch [3/5], Loss: 0.0489, Accuracy: 0.9851\n",
      "Epoch [4/5], Loss: 0.0415, Accuracy: 0.9873\n",
      "Epoch [5/5], Loss: 0.0348, Accuracy: 0.9890\n",
      "Test Accuracy: 0.9925\n",
      "\n",
      "Training with dropout=0.3\n",
      "Epoch [1/5], Loss: 0.2286, Accuracy: 0.9310\n",
      "Epoch [2/5], Loss: 0.0834, Accuracy: 0.9756\n",
      "Epoch [3/5], Loss: 0.0644, Accuracy: 0.9807\n",
      "Epoch [4/5], Loss: 0.0534, Accuracy: 0.9839\n",
      "Epoch [5/5], Loss: 0.0488, Accuracy: 0.9856\n",
      "Test Accuracy: 0.9921\n",
      "\n",
      "Training with dropout=0.4\n",
      "Epoch [1/5], Loss: 0.2704, Accuracy: 0.9174\n",
      "Epoch [2/5], Loss: 0.1007, Accuracy: 0.9698\n",
      "Epoch [3/5], Loss: 0.0795, Accuracy: 0.9762\n",
      "Epoch [4/5], Loss: 0.0679, Accuracy: 0.9802\n",
      "Epoch [5/5], Loss: 0.0590, Accuracy: 0.9823\n",
      "Test Accuracy: 0.9902\n",
      "\n",
      "Training with dropout=0.5\n",
      "Epoch [1/5], Loss: 0.3605, Accuracy: 0.8880\n",
      "Epoch [2/5], Loss: 0.1341, Accuracy: 0.9614\n",
      "Epoch [3/5], Loss: 0.1071, Accuracy: 0.9692\n",
      "Epoch [4/5], Loss: 0.0891, Accuracy: 0.9750\n",
      "Epoch [5/5], Loss: 0.0824, Accuracy: 0.9770\n",
      "Test Accuracy: 0.9914\n",
      "\n",
      "Training with dropout=0.6\n",
      "Epoch [1/5], Loss: 0.4882, Accuracy: 0.8425\n",
      "Epoch [2/5], Loss: 0.1908, Accuracy: 0.9441\n",
      "Epoch [3/5], Loss: 0.1493, Accuracy: 0.9567\n",
      "Epoch [4/5], Loss: 0.1300, Accuracy: 0.9630\n",
      "Epoch [5/5], Loss: 0.1156, Accuracy: 0.9676\n",
      "Test Accuracy: 0.9903\n",
      "\n",
      "Training with dropout=0.7\n",
      "Epoch [1/5], Loss: 0.7089, Accuracy: 0.7609\n",
      "Epoch [2/5], Loss: 0.3053, Accuracy: 0.9045\n",
      "Epoch [3/5], Loss: 0.2444, Accuracy: 0.9263\n",
      "Epoch [4/5], Loss: 0.2174, Accuracy: 0.9358\n",
      "Epoch [5/5], Loss: 0.1982, Accuracy: 0.9406\n",
      "Test Accuracy: 0.9888\n",
      "\n",
      "Training with dropout=0.8\n",
      "Epoch [1/5], Loss: 1.2941, Accuracy: 0.5272\n",
      "Epoch [2/5], Loss: 0.6265, Accuracy: 0.7745\n",
      "Epoch [3/5], Loss: 0.5068, Accuracy: 0.8179\n",
      "Epoch [4/5], Loss: 0.4538, Accuracy: 0.8365\n",
      "Epoch [5/5], Loss: 0.4268, Accuracy: 0.8446\n",
      "Test Accuracy: 0.9826\n",
      "\n",
      "Training with dropout=0.9\n",
      "Epoch [1/5], Loss: 2.2952, Accuracy: 0.1296\n",
      "Epoch [2/5], Loss: 1.9612, Accuracy: 0.2418\n",
      "Epoch [3/5], Loss: 1.5756, Accuracy: 0.3773\n",
      "Epoch [4/5], Loss: 1.3342, Accuracy: 0.4812\n",
      "Epoch [5/5], Loss: 1.2086, Accuracy: 0.5338\n",
      "Test Accuracy: 0.9135\n"
     ]
    }
   ],
   "source": [
    "train_loader, test_loader = get_data_loaders(batch_size=64)\n",
    "\n",
    "criterion = nn.CrossEntropyLoss()\n",
    "dropout_values = [i / 10 for i in range(10)]\n",
    "\n",
    "for p in dropout_values:\n",
    "    print(f\"\\nTraining with dropout={p:.1f}\")\n",
    "    model = build_model(dropout_prob=p)\n",
    "    optimizer = torch.optim.Adam(model.parameters(), lr=0.001)\n",
    "    \n",
    "    train(model, optimizer, criterion, train_loader, n_epochs=5)\n",
    "    test(model, test_loader)\n",
    "    torch.save(model, f'hw2_dropout_{p:.1f}.pt')\n"
   ]
  },
  {
   "cell_type": "code",
   "execution_count": 32,
   "id": "lmIeyYtYkCS7",
   "metadata": {
    "id": "lmIeyYtYkCS7"
   },
   "outputs": [
    {
     "name": "stdout",
     "output_type": "stream",
     "text": [
      "Epoch [1/10], Loss: 0.1844, Accuracy: 0.9474\n",
      "Epoch [2/10], Loss: 0.0661, Accuracy: 0.9799\n",
      "Epoch [3/10], Loss: 0.0526, Accuracy: 0.9840\n",
      "Epoch [4/10], Loss: 0.0417, Accuracy: 0.9868\n",
      "Epoch [5/10], Loss: 0.0371, Accuracy: 0.9886\n",
      "Epoch [6/10], Loss: 0.0349, Accuracy: 0.9895\n",
      "Epoch [7/10], Loss: 0.0306, Accuracy: 0.9905\n",
      "Epoch [8/10], Loss: 0.0285, Accuracy: 0.9906\n",
      "Epoch [9/10], Loss: 0.0250, Accuracy: 0.9920\n",
      "Epoch [10/10], Loss: 0.0226, Accuracy: 0.9927\n",
      "Test Accuracy: 0.9915\n"
     ]
    }
   ],
   "source": [
    "# find your best model, and train it for 10 epochs\n",
    "best_p = 0.2 # TODO: fill in your best probability\n",
    "model = build_model(dropout_prob=best_p)\n",
    "optimizer = torch.optim.Adam(model.parameters(), lr=0.001)\n",
    "criterion = nn.CrossEntropyLoss()\n",
    "\n",
    "train(model, optimizer, criterion, train_loader, n_epochs = 10)\n",
    "test(model, test_loader)\n",
    "torch.save(model, \"hw2_model.pt\")"
   ]
  },
  {
   "cell_type": "markdown",
   "id": "d8a2dc2a",
   "metadata": {
    "id": "d8a2dc2a"
   },
   "source": [
    "# Submission Instructions\n",
    "\n",
    "Zip all of your **code** and **model .pt files** into one file, and submit on Gradescope to the respective submission."
   ]
  }
 ],
 "metadata": {
  "colab": {
   "provenance": []
  },
  "kernelspec": {
   "display_name": "Python 3",
   "language": "python",
   "name": "python3"
  },
  "language_info": {
   "codemirror_mode": {
    "name": "ipython",
    "version": 3
   },
   "file_extension": ".py",
   "mimetype": "text/x-python",
   "name": "python",
   "nbconvert_exporter": "python",
   "pygments_lexer": "ipython3",
   "version": "3.12.3"
  }
 },
 "nbformat": 4,
 "nbformat_minor": 5
}
